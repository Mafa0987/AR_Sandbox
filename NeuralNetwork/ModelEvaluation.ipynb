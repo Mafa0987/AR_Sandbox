{
 "cells": [
  {
   "cell_type": "code",
   "execution_count": 67,
   "metadata": {},
   "outputs": [],
   "source": [
    "import numpy as np\n",
    "import onnxruntime\n",
    "import matplotlib.pyplot as plt\n",
    "from PIL import Image\n",
    "import os\n",
    "from sklearn.metrics import confusion_matrix, ConfusionMatrixDisplay"
   ]
  },
  {
   "cell_type": "code",
   "execution_count": 64,
   "metadata": {},
   "outputs": [],
   "source": [
    "def Bilinear(orig_image, new_width, new_height):\n",
    "    new_x, new_y = np.meshgrid(np.arange(new_height), np.arange(new_width))\n",
    "    orig_x = new_x / (new_width - 1) * (orig_image.shape[1] - 1)\n",
    "    orig_y = new_y / (new_height - 1) * (orig_image.shape[0] - 1)\n",
    "    x1 = orig_x.astype(int)\n",
    "    y1 = orig_y.astype(int)\n",
    "    x2 = np.clip(x1 + 1, 0, orig_image.shape[1] - 1)\n",
    "    y2 = np.clip(y1 + 1, 0, orig_image.shape[0] - 1)\n",
    "    dx = orig_x - x1\n",
    "    dy = orig_y - y1\n",
    "    dx = np.expand_dims(dx, axis=-1)\n",
    "    dy = np.expand_dims(dy, axis=-1)\n",
    "    result = (1 - dx) * (1 - dy) * orig_image[y1, x1] + \\\n",
    "             dx * (1 - dy) * orig_image[y1, x2] + \\\n",
    "             (1 - dx) * dy * orig_image[y2, x1] + \\\n",
    "             dx * dy * orig_image[y2, x2]\n",
    "    return result.astype(np.uint8)"
   ]
  },
  {
   "cell_type": "code",
   "execution_count": 65,
   "metadata": {},
   "outputs": [
    {
     "name": "stdout",
     "output_type": "stream",
     "text": [
      "(1500, 256, 256, 3)\n",
      "(1500, 2)\n",
      "(1500,)\n"
     ]
    }
   ],
   "source": [
    "labels = ['NoHand','OpenHand','ClosedHand']\n",
    "labels_pos = []\n",
    "labels_ges = []\n",
    "data = []\n",
    "path = \"TestData/Images\"\n",
    "pos = \"TestData/Positions\"\n",
    "res = [300, 400]\n",
    "for i in os.listdir(path):\n",
    "    for j in os.listdir(path + \"/\" + i):\n",
    "        im =  Image.open(path + \"/\" + i + '/' + j)\n",
    "        im = np.array(im)\n",
    "        im = Bilinear(im, 256, 256)\n",
    "        im = im/255.0\n",
    "        data.append(im)\n",
    "        f = open(pos + \"/\" + i + \"/\" + j.split(\".\")[0] + \".txt\", \"r\")\n",
    "        temp = f.read().split()\n",
    "        for k in range(2):\n",
    "            cord = int(temp[k])\n",
    "            if cord >= 0:\n",
    "                temp[k] = cord/res[k]*256\n",
    "            else:\n",
    "                temp[k] = cord\n",
    "        labels_pos.append(temp)\n",
    "        labels_ges.append(labels.index(i))\n",
    "        f.close()\n",
    "\n",
    "data = np.array(data)\n",
    "labels_pos = np.array(labels_pos)\n",
    "labels_ges = np.array(labels_ges)\n",
    "\n",
    "print(data.shape)\n",
    "print(labels_pos.shape)\n",
    "print(labels_ges.shape)"
   ]
  },
  {
   "cell_type": "code",
   "execution_count": 69,
   "metadata": {},
   "outputs": [
    {
     "name": "stdout",
     "output_type": "stream",
     "text": [
      "Accuracy:  0.9726666666666667\n",
      "Precision:  [1.         0.98113208 0.93881453]\n",
      "Recall:  [1.    0.936 0.982]\n",
      "F1:  [1.        0.9580348 0.9599218]\n",
      "MAE X:  2.5915965083848125\n",
      "MAE Y:  2.432844764850932\n",
      "MAE Average:  2.5122206366178723\n"
     ]
    },
    {
     "data": {
      "text/plain": [
       "<sklearn.metrics._plot.confusion_matrix.ConfusionMatrixDisplay at 0x2f90324e910>"
      ]
     },
     "execution_count": 69,
     "metadata": {},
     "output_type": "execute_result"
    },
    {
     "data": {
      "image/png": "[encoded data removed]",
      "text/plain": [
       "<Figure size 640x480 with 2 Axes>"
      ]
     },
     "metadata": {},
     "output_type": "display_data"
    }
   ],
   "source": [
    "# Load the ONNX model\n",
    "sess = onnxruntime.InferenceSession(\"AIOv4.onnx\")\n",
    "intput_name = sess.get_inputs()[0].name\n",
    "outputs = sess.get_outputs()\n",
    "output_one = outputs[0].name\n",
    "output_two = outputs[1].name\n",
    "\n",
    "accuracy = 0\n",
    "mae_x = 0\n",
    "mae_y = 0\n",
    "Tp = np.array([0, 0, 0])\n",
    "Fp = np.array([0, 0, 0])\n",
    "Fn = np.array([0, 0, 0])\n",
    "\n",
    "all_predicted_classes = []\n",
    "\n",
    "for i in range(len(data)):\n",
    "    test_image = i\n",
    "    image = data[test_image].astype(np.float32)\n",
    "    prediction = sess.run(output_names=[output_one, output_two], input_feed={intput_name: image.reshape(1,256,256,3)})\n",
    "    predictedClass = np.argmax(prediction[0])\n",
    "    all_predicted_classes.append(predictedClass)\n",
    "    mae_x += abs(labels_pos[test_image][0] - prediction[1][0][0])\n",
    "    mae_y += abs(labels_pos[test_image][1] - prediction[1][0][1])\n",
    "    if predictedClass == labels_ges[test_image]:\n",
    "        accuracy += 1\n",
    "        Tp[predictedClass] += 1\n",
    "    else:\n",
    "        Fp[predictedClass] += 1\n",
    "        Fn[labels_ges[test_image]] += 1\n",
    "\n",
    "\n",
    "\n",
    "accuracy = accuracy/len(data)\n",
    "precision = Tp/(Tp + Fp)\n",
    "recall = Tp/(Tp + Fn)\n",
    "F1 = 2 * Tp/(2 * Tp + Fp + Fn)\n",
    "mae_x = mae_x/len(data)\n",
    "mae_y = mae_y/len(data)\n",
    "mae_average = (mae_x + mae_y)/2\n",
    "print(\"Accuracy: \", accuracy)\n",
    "print(\"Precision: \", precision)\n",
    "print(\"Recall: \", recall)\n",
    "print(\"F1: \", F1)\n",
    "print(\"MAE X: \", mae_x)\n",
    "print(\"MAE Y: \", mae_y)\n",
    "print(\"MAE Average: \", mae_average)\n",
    "\n",
    "cm = confusion_matrix(labels_ges, all_predicted_classes)\n",
    "\n",
    "disp = ConfusionMatrixDisplay(confusion_matrix=cm, display_labels=labels)\n",
    "disp.plot()"
   ]
  },
  {
   "cell_type": "code",
   "execution_count": 71,
   "metadata": {},
   "outputs": [],
   "source": [
    "# img = image.copy()\n",
    "# for x in range(256):\n",
    "#     for y in range(256):\n",
    "#         if((x - onnx_predicted_label[1][0][0])**2 + (y - onnx_predicted_label[1][0][1])**2 < 10):\n",
    "#             img[y][x] = [0, 255, 0]\n",
    "\n",
    "# plt.imshow(img)\n",
    "# plt.show()"
   ]
  }
 ],
 "metadata": {
  "kernelspec": {
   "display_name": "Python 3",
   "language": "python",
   "name": "python3"
  },
  "language_info": {
   "codemirror_mode": {
    "name": "ipython",
    "version": 3
   },
   "file_extension": ".py",
   "mimetype": "text/x-python",
   "name": "python",
   "nbconvert_exporter": "python",
   "pygments_lexer": "ipython3",
   "version": "3.11.8"
  }
 },
 "nbformat": 4,
 "nbformat_minor": 2
}
